{
  "nbformat": 4,
  "nbformat_minor": 0,
  "metadata": {
    "colab": {
      "name": "dividend_stocks",
      "provenance": [],
      "collapsed_sections": [],
      "toc_visible": true,
      "mount_file_id": "135UxOd3G7nClfaB5naQV7Xclhm5Sg_ro",
      "authorship_tag": "ABX9TyOGtSv+3ZfugajM9uJmY5BH"
    },
    "kernelspec": {
      "name": "python3",
      "display_name": "Python 3"
    }
  },
  "cells": [
    {
      "cell_type": "markdown",
      "metadata": {
        "id": "qyEY1jCrOU2I",
        "colab_type": "text"
      },
      "source": [
        "# Finding the best dividend-yield stocks\n",
        "*Which ones are paying the most while costing the least (and have good prospects)?*\n",
        "\n",
        "---\n",
        "\n",
        "*TIP:* Remember to save datasets frequently, speaking from experience, sometimes handling large data means stepping away from your computer to stay busy while waiting for a process to run. You don't want to go back to your computer to see that you need to restart the runtime and that data is lost.\n"
      ]
    },
    {
      "cell_type": "markdown",
      "metadata": {
        "id": "zWKfEAOpOzFt",
        "colab_type": "text"
      },
      "source": [
        "## First, get a list of all publicly traded stocks in the Nasdaq index.\n",
        "\n",
        "I downloaded a filed called *nasdaqtraded.txt* from *ftp.nasdaqtrader.com*. Basically go to the login screen, clikc on \"SymbolDirectory\" and there is a tab for public resources where you can download multiple text files.\n",
        "\n"
      ]
    },
    {
      "cell_type": "code",
      "metadata": {
        "id": "0-EAZx-vOToX",
        "colab_type": "code",
        "colab": {}
      },
      "source": [
        "# Install dependencies\n",
        "!pip install robin-stocks\n",
        "!pip install yfinance"
      ],
      "execution_count": null,
      "outputs": []
    },
    {
      "cell_type": "code",
      "metadata": {
        "id": "SXt5rQ5kQVG1",
        "colab_type": "code",
        "colab": {}
      },
      "source": [
        "# Import libraries\n",
        "import json\n",
        "import numpy as np\n",
        "import pandas as pd\n",
        "import yfinance as yf\n",
        "import matplotlib.pyplot as plt\n",
        "import seaborn as sns\n",
        "%matplotlib inline"
      ],
      "execution_count": null,
      "outputs": []
    },
    {
      "cell_type": "code",
      "metadata": {
        "id": "YpAJ1MKvQ99J",
        "colab_type": "code",
        "colab": {
          "base_uri": "https://localhost:8080/",
          "height": 106
        },
        "outputId": "79c7b051-d974-45de-96ce-4f10443c0602"
      },
      "source": [
        "with open('/content/drive/My Drive/nasdaqtraded.txt','r') as f:\n",
        "  market_list = f.read()\n",
        "\n",
        "# Take a look at the raw market data from the file\n",
        "market_list.split('\\n')[:5]"
      ],
      "execution_count": null,
      "outputs": [
        {
          "output_type": "execute_result",
          "data": {
            "text/plain": [
              "['Nasdaq Traded|Symbol|Security Name|Listing Exchange|Market Category|ETF|Round Lot Size|Test Issue|Financial Status|CQS Symbol|NASDAQ Symbol|NextShares',\n",
              " 'Y|A|Agilent Technologies, Inc. Common Stock|N| |N|100|N||A|A|N',\n",
              " 'Y|AA|Alcoa Corporation Common Stock |N| |N|100|N||AA|AA|N',\n",
              " 'Y|AAAU|Perth Mint Physical Gold ETF|P| |Y|100|N||AAAU|AAAU|N',\n",
              " 'Y|AACG|ATA Creativity Global - American Depositary Shares, each representing two common shares|Q|G|N|100|N|D||AACG|N']"
            ]
          },
          "metadata": {
            "tags": []
          },
          "execution_count": 3
        }
      ]
    },
    {
      "cell_type": "markdown",
      "metadata": {
        "id": "D9keGPRhRfVL",
        "colab_type": "text"
      },
      "source": [
        "As you can see, there are multiple fields separate by a \"|\" character. From here, we could convert the data to a JSON or a DataFrame. For this notebook we will start with a JSON format to add new fields and then go with a Pandas DataFrame to maintain readibility.\n",
        "\n",
        "I won't go into detail about each column listed but you can get detailed information on each [here](http://www.nasdaqtrader.com/trader.aspx?id=symboldirdefs). \n",
        "\n",
        "The fields I will use are:\n",
        "- Nasdaq Traded: Filter out the stocks that have a value of 'N' for 'Not traded'\n",
        "\n",
        "- Test Issue: Filter out test tickers\n",
        "\n",
        "- Symbol: Get the ticker symbol for each stock\n",
        "\n",
        "- Sesurity Name: Name of company\n",
        "\n",
        "- Listing Exchange: Keep only those in the NYSE, value is 'N'   **(EDIT: Keeping them all for now)**\n",
        "\n",
        "- ETF: If it is an ETF or not\n",
        "\n",
        "- Financial Status: Categorizes the health of a company with the following values:\n",
        "\n",
        "  - D = Deficient: Issuer Failed to Meet NASDAQ Continued Listing Requirements\n",
        "  - E = Delinquent: Issuer Missed Regulatory Filing Deadline\n",
        "  - Q = Bankrupt: Issuer Has Filed for Bankruptcy\n",
        "  - N = Normal (Default): Issuer Is NOT Deficient, Delinquent, or Bankrupt.\n",
        "  - G = Deficient and Bankrupt\n",
        "  - H = Deficient and Delinquent\n",
        "  - J = Delinquent and Bankrupt\n",
        "  - K = Deficient, Delinquent, and Bankrupt"
      ]
    },
    {
      "cell_type": "code",
      "metadata": {
        "id": "T3WIykcuVEUb",
        "colab_type": "code",
        "colab": {
          "base_uri": "https://localhost:8080/",
          "height": 370
        },
        "outputId": "d81792b8-e522-407e-8de4-ce7fd0f6be90"
      },
      "source": [
        "# Create DataFrame\n",
        "market_data = [s.split('|') for s in market_list.split('\\n')]\n",
        "headers = [s.lower().replace(' ','_') for s in market_data[0]]\n",
        "df = pd.DataFrame(market_data[1:], columns=headers)\n",
        "\n",
        "print(len(df))\n",
        "df.head(10)"
      ],
      "execution_count": null,
      "outputs": [
        {
          "output_type": "stream",
          "text": [
            "8862\n"
          ],
          "name": "stdout"
        },
        {
          "output_type": "execute_result",
          "data": {
            "text/html": [
              "<div>\n",
              "<style scoped>\n",
              "    .dataframe tbody tr th:only-of-type {\n",
              "        vertical-align: middle;\n",
              "    }\n",
              "\n",
              "    .dataframe tbody tr th {\n",
              "        vertical-align: top;\n",
              "    }\n",
              "\n",
              "    .dataframe thead th {\n",
              "        text-align: right;\n",
              "    }\n",
              "</style>\n",
              "<table border=\"1\" class=\"dataframe\">\n",
              "  <thead>\n",
              "    <tr style=\"text-align: right;\">\n",
              "      <th></th>\n",
              "      <th>nasdaq_traded</th>\n",
              "      <th>symbol</th>\n",
              "      <th>security_name</th>\n",
              "      <th>listing_exchange</th>\n",
              "      <th>market_category</th>\n",
              "      <th>etf</th>\n",
              "      <th>round_lot_size</th>\n",
              "      <th>test_issue</th>\n",
              "      <th>financial_status</th>\n",
              "      <th>cqs_symbol</th>\n",
              "      <th>nasdaq_symbol</th>\n",
              "      <th>nextshares</th>\n",
              "    </tr>\n",
              "  </thead>\n",
              "  <tbody>\n",
              "    <tr>\n",
              "      <th>0</th>\n",
              "      <td>Y</td>\n",
              "      <td>A</td>\n",
              "      <td>Agilent Technologies, Inc. Common Stock</td>\n",
              "      <td>N</td>\n",
              "      <td></td>\n",
              "      <td>N</td>\n",
              "      <td>100</td>\n",
              "      <td>N</td>\n",
              "      <td></td>\n",
              "      <td>A</td>\n",
              "      <td>A</td>\n",
              "      <td>N</td>\n",
              "    </tr>\n",
              "    <tr>\n",
              "      <th>1</th>\n",
              "      <td>Y</td>\n",
              "      <td>AA</td>\n",
              "      <td>Alcoa Corporation Common Stock</td>\n",
              "      <td>N</td>\n",
              "      <td></td>\n",
              "      <td>N</td>\n",
              "      <td>100</td>\n",
              "      <td>N</td>\n",
              "      <td></td>\n",
              "      <td>AA</td>\n",
              "      <td>AA</td>\n",
              "      <td>N</td>\n",
              "    </tr>\n",
              "    <tr>\n",
              "      <th>2</th>\n",
              "      <td>Y</td>\n",
              "      <td>AAAU</td>\n",
              "      <td>Perth Mint Physical Gold ETF</td>\n",
              "      <td>P</td>\n",
              "      <td></td>\n",
              "      <td>Y</td>\n",
              "      <td>100</td>\n",
              "      <td>N</td>\n",
              "      <td></td>\n",
              "      <td>AAAU</td>\n",
              "      <td>AAAU</td>\n",
              "      <td>N</td>\n",
              "    </tr>\n",
              "    <tr>\n",
              "      <th>3</th>\n",
              "      <td>Y</td>\n",
              "      <td>AACG</td>\n",
              "      <td>ATA Creativity Global - American Depositary Sh...</td>\n",
              "      <td>Q</td>\n",
              "      <td>G</td>\n",
              "      <td>N</td>\n",
              "      <td>100</td>\n",
              "      <td>N</td>\n",
              "      <td>D</td>\n",
              "      <td></td>\n",
              "      <td>AACG</td>\n",
              "      <td>N</td>\n",
              "    </tr>\n",
              "    <tr>\n",
              "      <th>4</th>\n",
              "      <td>Y</td>\n",
              "      <td>AADR</td>\n",
              "      <td>AdvisorShares Dorsey Wright ADR ETF</td>\n",
              "      <td>P</td>\n",
              "      <td></td>\n",
              "      <td>Y</td>\n",
              "      <td>100</td>\n",
              "      <td>N</td>\n",
              "      <td></td>\n",
              "      <td>AADR</td>\n",
              "      <td>AADR</td>\n",
              "      <td>N</td>\n",
              "    </tr>\n",
              "    <tr>\n",
              "      <th>5</th>\n",
              "      <td>Y</td>\n",
              "      <td>AAL</td>\n",
              "      <td>American Airlines Group, Inc. - Common Stock</td>\n",
              "      <td>Q</td>\n",
              "      <td>Q</td>\n",
              "      <td>N</td>\n",
              "      <td>100</td>\n",
              "      <td>N</td>\n",
              "      <td>N</td>\n",
              "      <td></td>\n",
              "      <td>AAL</td>\n",
              "      <td>N</td>\n",
              "    </tr>\n",
              "    <tr>\n",
              "      <th>6</th>\n",
              "      <td>Y</td>\n",
              "      <td>AAMC</td>\n",
              "      <td>Altisource Asset Management Corp Com</td>\n",
              "      <td>A</td>\n",
              "      <td></td>\n",
              "      <td>N</td>\n",
              "      <td>100</td>\n",
              "      <td>N</td>\n",
              "      <td></td>\n",
              "      <td>AAMC</td>\n",
              "      <td>AAMC</td>\n",
              "      <td>N</td>\n",
              "    </tr>\n",
              "    <tr>\n",
              "      <th>7</th>\n",
              "      <td>Y</td>\n",
              "      <td>AAME</td>\n",
              "      <td>Atlantic American Corporation - Common Stock</td>\n",
              "      <td>Q</td>\n",
              "      <td>G</td>\n",
              "      <td>N</td>\n",
              "      <td>100</td>\n",
              "      <td>N</td>\n",
              "      <td>N</td>\n",
              "      <td></td>\n",
              "      <td>AAME</td>\n",
              "      <td>N</td>\n",
              "    </tr>\n",
              "    <tr>\n",
              "      <th>8</th>\n",
              "      <td>Y</td>\n",
              "      <td>AAN</td>\n",
              "      <td>Aaron's, Inc. Common Stock</td>\n",
              "      <td>N</td>\n",
              "      <td></td>\n",
              "      <td>N</td>\n",
              "      <td>100</td>\n",
              "      <td>N</td>\n",
              "      <td></td>\n",
              "      <td>AAN</td>\n",
              "      <td>AAN</td>\n",
              "      <td>N</td>\n",
              "    </tr>\n",
              "    <tr>\n",
              "      <th>9</th>\n",
              "      <td>Y</td>\n",
              "      <td>AAOI</td>\n",
              "      <td>Applied Optoelectronics, Inc. - Common Stock</td>\n",
              "      <td>Q</td>\n",
              "      <td>G</td>\n",
              "      <td>N</td>\n",
              "      <td>100</td>\n",
              "      <td>N</td>\n",
              "      <td>N</td>\n",
              "      <td></td>\n",
              "      <td>AAOI</td>\n",
              "      <td>N</td>\n",
              "    </tr>\n",
              "  </tbody>\n",
              "</table>\n",
              "</div>"
            ],
            "text/plain": [
              "  nasdaq_traded symbol  ... nasdaq_symbol nextshares\n",
              "0             Y      A  ...             A          N\n",
              "1             Y     AA  ...            AA          N\n",
              "2             Y   AAAU  ...          AAAU          N\n",
              "3             Y   AACG  ...          AACG          N\n",
              "4             Y   AADR  ...          AADR          N\n",
              "5             Y    AAL  ...           AAL          N\n",
              "6             Y   AAMC  ...          AAMC          N\n",
              "7             Y   AAME  ...          AAME          N\n",
              "8             Y    AAN  ...           AAN          N\n",
              "9             Y   AAOI  ...          AAOI          N\n",
              "\n",
              "[10 rows x 12 columns]"
            ]
          },
          "metadata": {
            "tags": []
          },
          "execution_count": 4
        }
      ]
    },
    {
      "cell_type": "code",
      "metadata": {
        "id": "2cBJ7PU0b4Nf",
        "colab_type": "code",
        "colab": {
          "base_uri": "https://localhost:8080/",
          "height": 309
        },
        "outputId": "630c3463-7c83-4994-b4bd-9da1adc083f1"
      },
      "source": [
        "## Filter dataframe\n",
        "\n",
        "# Drop unnecessary columns\n",
        "orig_headers = ['Nasdaq Traded', 'Symbol', 'Security Name', 'Listing Exchange', 'ETF', 'Financial Status', 'Test Issue']\n",
        "orig_headers_fixed = list(map(lambda x: x.lower().replace(' ','_'), orig_headers))\n",
        "df = df[orig_headers_fixed]\n",
        "\n",
        "# Keep only rows where nasdaq_traded equals 'Y' and listing_exchange equals 'N'\n",
        "#df = df[(df['nasdaq_traded'] == 'Y') & (df['listing_exchange'] == 'N')]\n",
        "df = df[(df['nasdaq_traded'] == 'Y') & (df['test_issue'] == 'N')]\n",
        "print(len(df))\n",
        "df.head(8)\n"
      ],
      "execution_count": null,
      "outputs": [
        {
          "output_type": "stream",
          "text": [
            "8825\n"
          ],
          "name": "stdout"
        },
        {
          "output_type": "execute_result",
          "data": {
            "text/html": [
              "<div>\n",
              "<style scoped>\n",
              "    .dataframe tbody tr th:only-of-type {\n",
              "        vertical-align: middle;\n",
              "    }\n",
              "\n",
              "    .dataframe tbody tr th {\n",
              "        vertical-align: top;\n",
              "    }\n",
              "\n",
              "    .dataframe thead th {\n",
              "        text-align: right;\n",
              "    }\n",
              "</style>\n",
              "<table border=\"1\" class=\"dataframe\">\n",
              "  <thead>\n",
              "    <tr style=\"text-align: right;\">\n",
              "      <th></th>\n",
              "      <th>nasdaq_traded</th>\n",
              "      <th>symbol</th>\n",
              "      <th>security_name</th>\n",
              "      <th>listing_exchange</th>\n",
              "      <th>etf</th>\n",
              "      <th>financial_status</th>\n",
              "      <th>test_issue</th>\n",
              "    </tr>\n",
              "  </thead>\n",
              "  <tbody>\n",
              "    <tr>\n",
              "      <th>0</th>\n",
              "      <td>Y</td>\n",
              "      <td>A</td>\n",
              "      <td>Agilent Technologies, Inc. Common Stock</td>\n",
              "      <td>N</td>\n",
              "      <td>N</td>\n",
              "      <td></td>\n",
              "      <td>N</td>\n",
              "    </tr>\n",
              "    <tr>\n",
              "      <th>1</th>\n",
              "      <td>Y</td>\n",
              "      <td>AA</td>\n",
              "      <td>Alcoa Corporation Common Stock</td>\n",
              "      <td>N</td>\n",
              "      <td>N</td>\n",
              "      <td></td>\n",
              "      <td>N</td>\n",
              "    </tr>\n",
              "    <tr>\n",
              "      <th>2</th>\n",
              "      <td>Y</td>\n",
              "      <td>AAAU</td>\n",
              "      <td>Perth Mint Physical Gold ETF</td>\n",
              "      <td>P</td>\n",
              "      <td>Y</td>\n",
              "      <td></td>\n",
              "      <td>N</td>\n",
              "    </tr>\n",
              "    <tr>\n",
              "      <th>3</th>\n",
              "      <td>Y</td>\n",
              "      <td>AACG</td>\n",
              "      <td>ATA Creativity Global - American Depositary Sh...</td>\n",
              "      <td>Q</td>\n",
              "      <td>N</td>\n",
              "      <td>D</td>\n",
              "      <td>N</td>\n",
              "    </tr>\n",
              "    <tr>\n",
              "      <th>4</th>\n",
              "      <td>Y</td>\n",
              "      <td>AADR</td>\n",
              "      <td>AdvisorShares Dorsey Wright ADR ETF</td>\n",
              "      <td>P</td>\n",
              "      <td>Y</td>\n",
              "      <td></td>\n",
              "      <td>N</td>\n",
              "    </tr>\n",
              "    <tr>\n",
              "      <th>5</th>\n",
              "      <td>Y</td>\n",
              "      <td>AAL</td>\n",
              "      <td>American Airlines Group, Inc. - Common Stock</td>\n",
              "      <td>Q</td>\n",
              "      <td>N</td>\n",
              "      <td>N</td>\n",
              "      <td>N</td>\n",
              "    </tr>\n",
              "    <tr>\n",
              "      <th>6</th>\n",
              "      <td>Y</td>\n",
              "      <td>AAMC</td>\n",
              "      <td>Altisource Asset Management Corp Com</td>\n",
              "      <td>A</td>\n",
              "      <td>N</td>\n",
              "      <td></td>\n",
              "      <td>N</td>\n",
              "    </tr>\n",
              "    <tr>\n",
              "      <th>7</th>\n",
              "      <td>Y</td>\n",
              "      <td>AAME</td>\n",
              "      <td>Atlantic American Corporation - Common Stock</td>\n",
              "      <td>Q</td>\n",
              "      <td>N</td>\n",
              "      <td>N</td>\n",
              "      <td>N</td>\n",
              "    </tr>\n",
              "  </tbody>\n",
              "</table>\n",
              "</div>"
            ],
            "text/plain": [
              "  nasdaq_traded symbol  ... financial_status test_issue\n",
              "0             Y      A  ...                           N\n",
              "1             Y     AA  ...                           N\n",
              "2             Y   AAAU  ...                           N\n",
              "3             Y   AACG  ...                D          N\n",
              "4             Y   AADR  ...                           N\n",
              "5             Y    AAL  ...                N          N\n",
              "6             Y   AAMC  ...                           N\n",
              "7             Y   AAME  ...                N          N\n",
              "\n",
              "[8 rows x 7 columns]"
            ]
          },
          "metadata": {
            "tags": []
          },
          "execution_count": 5
        }
      ]
    },
    {
      "cell_type": "markdown",
      "metadata": {
        "id": "cPe3u4qKeeos",
        "colab_type": "text"
      },
      "source": [
        "## Adding additional financial information with Robin-Stocks and Yahoo Finance"
      ]
    },
    {
      "cell_type": "markdown",
      "metadata": {
        "id": "9phx0wZLeDL_",
        "colab_type": "text"
      },
      "source": [
        "We lowered our number of rows from 8862 to 8825. We can drop the *nasdaq_traded* and **NOT** *listing_exchange* columns as they have no variance anymore.\n",
        "\n",
        "With this dataframe, we can beging adding more financial information such as dividends, latest price, and expert ratings.\n",
        "\n"
      ]
    },
    {
      "cell_type": "code",
      "metadata": {
        "id": "cE6rzbDHd5La",
        "colab_type": "code",
        "colab": {}
      },
      "source": [
        "# Drop the aforementioned columns\n",
        "df = df.drop(columns=['nasdaq_traded','test_issue'])  #,'listing_exchange']) "
      ],
      "execution_count": null,
      "outputs": []
    },
    {
      "cell_type": "code",
      "metadata": {
        "id": "R3cE3RqfvdWA",
        "colab_type": "code",
        "colab": {
          "base_uri": "https://localhost:8080/",
          "height": 284
        },
        "outputId": "5638ffa9-a22c-4227-fbf7-b6c971b6d36b"
      },
      "source": [
        "# Then we need to see how many null values are present in each column\n",
        "print('NULL values')\n",
        "print(df.isnull().sum())\n",
        "print('-----------------')\n",
        "print('N/A values')\n",
        "print(df.isna().sum())\n"
      ],
      "execution_count": null,
      "outputs": [
        {
          "output_type": "stream",
          "text": [
            "NULL values\n",
            "symbol              0\n",
            "security_name       0\n",
            "listing_exchange    0\n",
            "etf                 0\n",
            "financial_status    0\n",
            "dtype: int64\n",
            "-----------------\n",
            "N/A values\n",
            "symbol              0\n",
            "security_name       0\n",
            "listing_exchange    0\n",
            "etf                 0\n",
            "financial_status    0\n",
            "dtype: int64\n"
          ],
          "name": "stdout"
        }
      ]
    },
    {
      "cell_type": "markdown",
      "metadata": {
        "id": "-WpvjIixv-iP",
        "colab_type": "text"
      },
      "source": [
        "Interestingly, it seems there are no empty cells in the DataFrame. Yet, we see that there are rows with no information under the \"Financial Status\" column.\n",
        "\n",
        "To solve this, we will look at the set of unique values for this column."
      ]
    },
    {
      "cell_type": "code",
      "metadata": {
        "id": "5MTmO_Umv9Py",
        "colab_type": "code",
        "colab": {
          "base_uri": "https://localhost:8080/",
          "height": 141
        },
        "outputId": "4a93d3cf-ae54-4870-f6fe-f2fc4bcc5959"
      },
      "source": [
        "df.groupby('financial_status')['symbol'].nunique()"
      ],
      "execution_count": null,
      "outputs": [
        {
          "output_type": "execute_result",
          "data": {
            "text/plain": [
              "financial_status\n",
              "     5280\n",
              "D     260\n",
              "E      10\n",
              "H       7\n",
              "N    3268\n",
              "Name: symbol, dtype: int64"
            ]
          },
          "metadata": {
            "tags": []
          },
          "execution_count": 8
        }
      ]
    },
    {
      "cell_type": "markdown",
      "metadata": {
        "id": "YqeHfgwSzFcT",
        "colab_type": "text"
      },
      "source": [
        "5280 out of 8825 (59.8%) of all companies have an absent \"Financial Status\" marker.\n",
        "\n",
        "Let's not drop this yet, maybe we can continue without it or make a prediction based on other features?\n",
        "\n",
        "\n",
        "> Listing Exchanges:\n",
        "- A = NYSE MKT\n",
        "- N = New York Stock Exchange (NYSE)\n",
        "- P = NYSE ARCA\n",
        "- Z = BATS Global Markets (BATS)\n",
        "- V = Investors' Exchange, LLC (IEXG)\n",
        "\n"
      ]
    },
    {
      "cell_type": "markdown",
      "metadata": {
        "id": "pVOieWfQBAIf",
        "colab_type": "text"
      },
      "source": [
        "## Visualize the distribution of Financial Status values in each Listing Exchane"
      ]
    },
    {
      "cell_type": "code",
      "metadata": {
        "id": "GmF_MJzFzC27",
        "colab_type": "code",
        "colab": {
          "base_uri": "https://localhost:8080/",
          "height": 141
        },
        "outputId": "9b646567-b251-408c-b8ec-68e205551e81"
      },
      "source": [
        "# Split dataframe into multiple dataframes by listing exchange\n",
        "exchange_mapping = {'A':'NYSE MKT','N':'NYSE','P':'NYSE ARCA','Z':'BATS','V':'IEXG','Q':'IEXG'}\n",
        "\n",
        "exchanges = list(set(df.listing_exchange.values))\n",
        "financial_status = list(set(df.financial_status.values))\n",
        "\n",
        "fin_status_counts = np.zeros((len(exchanges),len(financial_status)))\n",
        "\n",
        "for num, ex in enumerate(exchanges):\n",
        "  exdf = df[df['listing_exchange'] == ex]['financial_status'].value_counts()\n",
        "  for idx, row in zip(exdf.index, exdf.values):\n",
        "    fin_status_counts[num][financial_status.index(idx)] = row\n",
        "\n",
        "print(exchanges)\n",
        "print(financial_status)\n",
        "print(fin_status_counts.T)\n",
        "  "
      ],
      "execution_count": null,
      "outputs": [
        {
          "output_type": "stream",
          "text": [
            "['A', 'Q', 'Z', 'N', 'P']\n",
            "['', 'D', 'N', 'E', 'H']\n",
            "[[ 289.    0.  365. 3077. 1549.]\n",
            " [   0.  260.    0.    0.    0.]\n",
            " [   0. 3268.    0.    0.    0.]\n",
            " [   0.   10.    0.    0.    0.]\n",
            " [   0.    7.    0.    0.    0.]]\n"
          ],
          "name": "stdout"
        }
      ]
    },
    {
      "cell_type": "code",
      "metadata": {
        "id": "Dmo0LTMDA-KK",
        "colab_type": "code",
        "colab": {
          "base_uri": "https://localhost:8080/",
          "height": 948
        },
        "outputId": "e489e894-c3d6-4ba5-8334-3c8e8f8ce76d"
      },
      "source": [
        "# Plot the data arranged as a 2-D numpy array\n",
        "x_labels = list(map(lambda x: exchange_mapping[x], exchanges))\n",
        "# Transport the 2D array\n",
        "transposed_fs = fin_status_counts.T\n",
        "\n",
        "plt.figure(figsize=(24,16))\n",
        "\n",
        "color_scheme = ['#2CBDFE','#47DBCD','#F3A0F2','#661D98','#F5B14C']\n",
        "bottoms = []\n",
        "for num, val in enumerate(transposed_fs):\n",
        "  if financial_status[num] == '':\n",
        "    financial_status[num] = 'N/A'\n",
        "  if num == 0:\n",
        "    plt.bar(x_labels, val, width=0.6, label=financial_status[num], color=color_scheme[num])\n",
        "    bottom = val\n",
        "  else:\n",
        "    plt.bar(x_labels, val, width=0.6, label=financial_status[num], color=color_scheme[num], bottom=bottom)\n",
        "    bottom += val\n",
        "\n",
        "plt.xticks(x_labels, x_labels)\n",
        "plt.ylabel(\"Financial Status\")\n",
        "plt.xlabel(\"Listing Exchanges\")\n",
        "plt.legend(loc=\"upper center\")\n",
        "plt.title(\"Distribution of Financial Status per Exchange\")\n",
        "plt.show()\n"
      ],
      "execution_count": null,
      "outputs": [
        {
          "output_type": "display_data",
          "data": {
            "image/png": "[encoded data removed]",
            "text/plain": [
              "<Figure size 1728x1152 with 1 Axes>"
            ]
          },
          "metadata": {
            "tags": [],
            "needs_background": "light"
          }
        }
      ]
    },
    {
      "cell_type": "markdown",
      "metadata": {
        "id": "OBWUMStoo06Y",
        "colab_type": "text"
      },
      "source": [
        "It seems only IEXG has financial status data. Therefore, we can ignore the field for now and continue adding financial data from Yahoo Finance to each ticker."
      ]
    },
    {
      "cell_type": "markdown",
      "metadata": {
        "id": "31JQsLTzSR3-",
        "colab_type": "text"
      },
      "source": [
        "## Get financial data from Yahoo Finance"
      ]
    },
    {
      "cell_type": "code",
      "metadata": {
        "id": "tNGM5ldypDOi",
        "colab_type": "code",
        "colab": {}
      },
      "source": [
        "# Create a list of symbols/tickers\n",
        "symbol_list = df.symbol.to_list()\n",
        "\n",
        "# Read the documentation and selected the fields I want to keep\n",
        "info_to_keep = '''zip, sector, fullTimeEmployees, city, state, country, industry, previousClose,\n",
        "regularMarketOpen, twoHundredDayAverage, trailingAnnualDividendYield, payoutRatio,\n",
        "regularMarketDayHigh, averageDailyVolume10Day, regularMarketPreviousClose, fiftyDayAverage,\n",
        "trailingAnnualDividendRate, open, averageVolume10days, dividendRate, regularMarketDayLow,\n",
        "trailingPE, regularMarketVolume, marketCap, averageVolume, dayLow, ask, askSize,\n",
        "volume, fiftyTwoWeekHigh, forwardPE, fiveYearAvgDividendYield, fiftyTwoWeekLow,\n",
        "bid, dividendYield, bidSize, dayHigh, enterpriseToRevenue, profitMargins,\n",
        "52WeekChange, forwardEps, revenueQuarterlyGrowth, bookValue, sharesShort, sharesPercentSharesOut,\n",
        "heldPercentInstitutions, shortRatio, floatShares, enterpriseValue, regularMarketPrice'''\n",
        "info_to_keep_list = info_to_keep.split(', ')\n",
        "\n",
        "list_of_additional_info = []\n",
        "for symbol in symbol_list:\n",
        "  try:\n",
        "    # Get ticker object\n",
        "    ticker = yf.Ticker(symbol)\n",
        "    # Keep only relevant fields\n",
        "    ticker_info = {k:v for k,v in ticker.info.items() if k in info_to_keep_list}\n",
        "    # Add the latest dividend given\n",
        "    ticker_info['latest_dividend'] = ticker.dividends[-1]\n",
        "    # Include symbol to \n",
        "    ticker_info['symbol'] = symbol\n",
        "    list_of_additional_info.append(ticker_info)\n",
        "  except Exception as e:\n",
        "    # The ticker is not available in Yahoo Finance, or at least it has no data\n",
        "    # related to it\n",
        "    continue\n",
        "  \n",
        "\n",
        "# Other dataframes to keep for future use:\n",
        "# dividends, sustainability, calendar, recommendations\n",
        "\n",
        "# Save the file as a CSV just in case\n",
        "sample_df = pd.DataFrame(list_of_additional_info)\n",
        "print(len(sample_df))\n",
        "#sample_df.to_csv('###########',index=False)\n",
        "  "
      ],
      "execution_count": null,
      "outputs": []
    },
    {
      "cell_type": "markdown",
      "metadata": {
        "id": "ZKbyJ5-gSh7P",
        "colab_type": "text"
      },
      "source": [
        "### **PSA**\n",
        "\n",
        "Now the method above is a **BAD IDEA** when looping through so much data. I would recommend using some type of multiprocessing or parallel library to speed up the process. Google Colab is more than equipped to do so.\n",
        "\n",
        "**Remember:** avoid for loops for stuff like this unless you're okay waiting for 1 hour or more."
      ]
    },
    {
      "cell_type": "code",
      "metadata": {
        "id": "npPIQTsq1lHy",
        "colab_type": "code",
        "colab": {
          "base_uri": "https://localhost:8080/",
          "height": 305
        },
        "outputId": "66f95f98-f6a9-4da9-b390-16763ef6d5d4"
      },
      "source": [
        "sample_df.head()"
      ],
      "execution_count": null,
      "outputs": [
        {
          "output_type": "execute_result",
          "data": {
            "text/html": [
              "<div>\n",
              "<style scoped>\n",
              "    .dataframe tbody tr th:only-of-type {\n",
              "        vertical-align: middle;\n",
              "    }\n",
              "\n",
              "    .dataframe tbody tr th {\n",
              "        vertical-align: top;\n",
              "    }\n",
              "\n",
              "    .dataframe thead th {\n",
              "        text-align: right;\n",
              "    }\n",
              "</style>\n",
              "<table border=\"1\" class=\"dataframe\">\n",
              "  <thead>\n",
              "    <tr style=\"text-align: right;\">\n",
              "      <th></th>\n",
              "      <th>zip</th>\n",
              "      <th>sector</th>\n",
              "      <th>fullTimeEmployees</th>\n",
              "      <th>city</th>\n",
              "      <th>state</th>\n",
              "      <th>country</th>\n",
              "      <th>industry</th>\n",
              "      <th>twoHundredDayAverage</th>\n",
              "      <th>trailingAnnualDividendYield</th>\n",
              "      <th>averageDailyVolume10Day</th>\n",
              "      <th>regularMarketPreviousClose</th>\n",
              "      <th>open</th>\n",
              "      <th>averageVolume10days</th>\n",
              "      <th>dividendRate</th>\n",
              "      <th>regularMarketVolume</th>\n",
              "      <th>marketCap</th>\n",
              "      <th>averageVolume</th>\n",
              "      <th>dayLow</th>\n",
              "      <th>ask</th>\n",
              "      <th>fiftyTwoWeekHigh</th>\n",
              "      <th>forwardPE</th>\n",
              "      <th>fiveYearAvgDividendYield</th>\n",
              "      <th>dividendYield</th>\n",
              "      <th>bidSize</th>\n",
              "      <th>dayHigh</th>\n",
              "      <th>enterpriseToRevenue</th>\n",
              "      <th>forwardEps</th>\n",
              "      <th>revenueQuarterlyGrowth</th>\n",
              "      <th>bookValue</th>\n",
              "      <th>sharesShort</th>\n",
              "      <th>shortRatio</th>\n",
              "      <th>floatShares</th>\n",
              "      <th>enterpriseValue</th>\n",
              "      <th>regularMarketPrice</th>\n",
              "      <th>latest_dividend</th>\n",
              "      <th>symbol</th>\n",
              "    </tr>\n",
              "  </thead>\n",
              "  <tbody>\n",
              "    <tr>\n",
              "      <th>0</th>\n",
              "      <td>95051</td>\n",
              "      <td>Healthcare</td>\n",
              "      <td>16300.0</td>\n",
              "      <td>Santa Clara</td>\n",
              "      <td>CA</td>\n",
              "      <td>United States</td>\n",
              "      <td>Diagnostics &amp; Research</td>\n",
              "      <td>79.984190</td>\n",
              "      <td>0.007802</td>\n",
              "      <td>2807514</td>\n",
              "      <td>86.130</td>\n",
              "      <td>86.30</td>\n",
              "      <td>2807514</td>\n",
              "      <td>0.72</td>\n",
              "      <td>1847602</td>\n",
              "      <td>2.654344e+10</td>\n",
              "      <td>2616254</td>\n",
              "      <td>84.3700</td>\n",
              "      <td>87.20</td>\n",
              "      <td>90.64</td>\n",
              "      <td>24.140057</td>\n",
              "      <td>0.92</td>\n",
              "      <td>0.0084</td>\n",
              "      <td>1400.0</td>\n",
              "      <td>86.480</td>\n",
              "      <td>4.987</td>\n",
              "      <td>3.57</td>\n",
              "      <td>NaN</td>\n",
              "      <td>15.636</td>\n",
              "      <td>5258241.0</td>\n",
              "      <td>2.55</td>\n",
              "      <td>308518035.0</td>\n",
              "      <td>2.611031e+10</td>\n",
              "      <td>86.30</td>\n",
              "      <td>0.180</td>\n",
              "      <td>A</td>\n",
              "    </tr>\n",
              "    <tr>\n",
              "      <th>1</th>\n",
              "      <td>15212</td>\n",
              "      <td>Basic Materials</td>\n",
              "      <td>13800.0</td>\n",
              "      <td>Pittsburgh</td>\n",
              "      <td>PA</td>\n",
              "      <td>United States</td>\n",
              "      <td>Aluminum</td>\n",
              "      <td>13.778677</td>\n",
              "      <td>0.041096</td>\n",
              "      <td>9643371</td>\n",
              "      <td>8.760</td>\n",
              "      <td>9.12</td>\n",
              "      <td>9643371</td>\n",
              "      <td>NaN</td>\n",
              "      <td>11237725</td>\n",
              "      <td>1.814570e+09</td>\n",
              "      <td>9784741</td>\n",
              "      <td>8.9250</td>\n",
              "      <td>9.90</td>\n",
              "      <td>24.63</td>\n",
              "      <td>-40.666668</td>\n",
              "      <td>NaN</td>\n",
              "      <td>NaN</td>\n",
              "      <td>1800.0</td>\n",
              "      <td>9.790</td>\n",
              "      <td>0.417</td>\n",
              "      <td>-0.24</td>\n",
              "      <td>NaN</td>\n",
              "      <td>22.994</td>\n",
              "      <td>11633009.0</td>\n",
              "      <td>1.10</td>\n",
              "      <td>185121237.0</td>\n",
              "      <td>4.210365e+09</td>\n",
              "      <td>9.12</td>\n",
              "      <td>0.090</td>\n",
              "      <td>AA</td>\n",
              "    </tr>\n",
              "    <tr>\n",
              "      <th>2</th>\n",
              "      <td>NaN</td>\n",
              "      <td>NaN</td>\n",
              "      <td>NaN</td>\n",
              "      <td>NaN</td>\n",
              "      <td>NaN</td>\n",
              "      <td>NaN</td>\n",
              "      <td>NaN</td>\n",
              "      <td>49.253677</td>\n",
              "      <td>NaN</td>\n",
              "      <td>3914</td>\n",
              "      <td>48.275</td>\n",
              "      <td>47.59</td>\n",
              "      <td>3914</td>\n",
              "      <td>NaN</td>\n",
              "      <td>3019</td>\n",
              "      <td>NaN</td>\n",
              "      <td>18675</td>\n",
              "      <td>47.3664</td>\n",
              "      <td>0.00</td>\n",
              "      <td>57.51</td>\n",
              "      <td>NaN</td>\n",
              "      <td>NaN</td>\n",
              "      <td>NaN</td>\n",
              "      <td>800.0</td>\n",
              "      <td>48.221</td>\n",
              "      <td>NaN</td>\n",
              "      <td>NaN</td>\n",
              "      <td>NaN</td>\n",
              "      <td>NaN</td>\n",
              "      <td>NaN</td>\n",
              "      <td>NaN</td>\n",
              "      <td>NaN</td>\n",
              "      <td>NaN</td>\n",
              "      <td>47.59</td>\n",
              "      <td>0.008</td>\n",
              "      <td>AADR</td>\n",
              "    </tr>\n",
              "    <tr>\n",
              "      <th>3</th>\n",
              "      <td>76155</td>\n",
              "      <td>Industrials</td>\n",
              "      <td>131500.0</td>\n",
              "      <td>Fort Worth</td>\n",
              "      <td>TX</td>\n",
              "      <td>United States</td>\n",
              "      <td>Airlines</td>\n",
              "      <td>20.709190</td>\n",
              "      <td>0.035907</td>\n",
              "      <td>66709542</td>\n",
              "      <td>11.140</td>\n",
              "      <td>12.43</td>\n",
              "      <td>66709542</td>\n",
              "      <td>0.40</td>\n",
              "      <td>99314752</td>\n",
              "      <td>5.066270e+09</td>\n",
              "      <td>69955775</td>\n",
              "      <td>11.0700</td>\n",
              "      <td>11.94</td>\n",
              "      <td>34.99</td>\n",
              "      <td>-299.500000</td>\n",
              "      <td>1.14</td>\n",
              "      <td>0.0359</td>\n",
              "      <td>4000.0</td>\n",
              "      <td>12.550</td>\n",
              "      <td>0.796</td>\n",
              "      <td>-0.04</td>\n",
              "      <td>NaN</td>\n",
              "      <td>-6.233</td>\n",
              "      <td>119303588.0</td>\n",
              "      <td>1.49</td>\n",
              "      <td>416754073.0</td>\n",
              "      <td>3.478515e+10</td>\n",
              "      <td>12.43</td>\n",
              "      <td>0.100</td>\n",
              "      <td>AAL</td>\n",
              "    </tr>\n",
              "    <tr>\n",
              "      <th>4</th>\n",
              "      <td>30319</td>\n",
              "      <td>Financial Services</td>\n",
              "      <td>151.0</td>\n",
              "      <td>Atlanta</td>\n",
              "      <td>GA</td>\n",
              "      <td>United States</td>\n",
              "      <td>Insurance—Life</td>\n",
              "      <td>2.017721</td>\n",
              "      <td>0.010256</td>\n",
              "      <td>1185</td>\n",
              "      <td>1.950</td>\n",
              "      <td>1.95</td>\n",
              "      <td>1185</td>\n",
              "      <td>NaN</td>\n",
              "      <td>453</td>\n",
              "      <td>3.832200e+07</td>\n",
              "      <td>2308</td>\n",
              "      <td>1.8300</td>\n",
              "      <td>0.00</td>\n",
              "      <td>2.95</td>\n",
              "      <td>NaN</td>\n",
              "      <td>0.65</td>\n",
              "      <td>NaN</td>\n",
              "      <td>800.0</td>\n",
              "      <td>1.950</td>\n",
              "      <td>0.371</td>\n",
              "      <td>NaN</td>\n",
              "      <td>NaN</td>\n",
              "      <td>4.964</td>\n",
              "      <td>1620.0</td>\n",
              "      <td>0.46</td>\n",
              "      <td>4879047.0</td>\n",
              "      <td>6.778967e+07</td>\n",
              "      <td>1.95</td>\n",
              "      <td>0.020</td>\n",
              "      <td>AAME</td>\n",
              "    </tr>\n",
              "  </tbody>\n",
              "</table>\n",
              "</div>"
            ],
            "text/plain": [
              "     zip              sector  ...  latest_dividend symbol\n",
              "0  95051          Healthcare  ...            0.180      A\n",
              "1  15212     Basic Materials  ...            0.090     AA\n",
              "2    NaN                 NaN  ...            0.008   AADR\n",
              "3  76155         Industrials  ...            0.100    AAL\n",
              "4  30319  Financial Services  ...            0.020   AAME\n",
              "\n",
              "[5 rows x 36 columns]"
            ]
          },
          "metadata": {
            "tags": []
          },
          "execution_count": 19
        }
      ]
    },
    {
      "cell_type": "markdown",
      "metadata": {
        "id": "k24jZ_kgRBIu",
        "colab_type": "text"
      },
      "source": [
        "## Merge datasets"
      ]
    },
    {
      "cell_type": "markdown",
      "metadata": {
        "id": "7QBoehgwTYD_",
        "colab_type": "text"
      },
      "source": [
        "We now have two datasets --one with the ticker's financial data from Yahoo Finance and the first one that contains basic information-- which we used to get all the stocks that are traded in Nasdaq.\n",
        "\n",
        "We can merge them now and filter out the symbols that are not in the Yahoo Finance dataframe."
      ]
    },
    {
      "cell_type": "code",
      "metadata": {
        "id": "DvSmVUayUeXP",
        "colab_type": "code",
        "colab": {
          "base_uri": "https://localhost:8080/",
          "height": 459
        },
        "outputId": "a44a7278-5357-4078-d225-948a5dc68217"
      },
      "source": [
        "merged_df = pd.merge(df, sample_df, on='symbol')\n",
        "print(len(merged_df))\n",
        "merged_df.head()"
      ],
      "execution_count": null,
      "outputs": [
        {
          "output_type": "stream",
          "text": [
            "4447\n"
          ],
          "name": "stdout"
        },
        {
          "output_type": "execute_result",
          "data": {
            "text/html": [
              "<div>\n",
              "<style scoped>\n",
              "    .dataframe tbody tr th:only-of-type {\n",
              "        vertical-align: middle;\n",
              "    }\n",
              "\n",
              "    .dataframe tbody tr th {\n",
              "        vertical-align: top;\n",
              "    }\n",
              "\n",
              "    .dataframe thead th {\n",
              "        text-align: right;\n",
              "    }\n",
              "</style>\n",
              "<table border=\"1\" class=\"dataframe\">\n",
              "  <thead>\n",
              "    <tr style=\"text-align: right;\">\n",
              "      <th></th>\n",
              "      <th>symbol</th>\n",
              "      <th>security_name</th>\n",
              "      <th>listing_exchange</th>\n",
              "      <th>etf</th>\n",
              "      <th>financial_status</th>\n",
              "      <th>zip</th>\n",
              "      <th>sector</th>\n",
              "      <th>fullTimeEmployees</th>\n",
              "      <th>city</th>\n",
              "      <th>state</th>\n",
              "      <th>country</th>\n",
              "      <th>industry</th>\n",
              "      <th>twoHundredDayAverage</th>\n",
              "      <th>trailingAnnualDividendYield</th>\n",
              "      <th>averageDailyVolume10Day</th>\n",
              "      <th>regularMarketPreviousClose</th>\n",
              "      <th>open</th>\n",
              "      <th>averageVolume10days</th>\n",
              "      <th>dividendRate</th>\n",
              "      <th>regularMarketVolume</th>\n",
              "      <th>marketCap</th>\n",
              "      <th>averageVolume</th>\n",
              "      <th>dayLow</th>\n",
              "      <th>ask</th>\n",
              "      <th>fiftyTwoWeekHigh</th>\n",
              "      <th>forwardPE</th>\n",
              "      <th>fiveYearAvgDividendYield</th>\n",
              "      <th>dividendYield</th>\n",
              "      <th>bidSize</th>\n",
              "      <th>dayHigh</th>\n",
              "      <th>enterpriseToRevenue</th>\n",
              "      <th>forwardEps</th>\n",
              "      <th>revenueQuarterlyGrowth</th>\n",
              "      <th>bookValue</th>\n",
              "      <th>sharesShort</th>\n",
              "      <th>shortRatio</th>\n",
              "      <th>floatShares</th>\n",
              "      <th>enterpriseValue</th>\n",
              "      <th>regularMarketPrice</th>\n",
              "      <th>latest_dividend</th>\n",
              "    </tr>\n",
              "  </thead>\n",
              "  <tbody>\n",
              "    <tr>\n",
              "      <th>0</th>\n",
              "      <td>A</td>\n",
              "      <td>Agilent Technologies, Inc. Common Stock</td>\n",
              "      <td>N</td>\n",
              "      <td>N</td>\n",
              "      <td></td>\n",
              "      <td>95051</td>\n",
              "      <td>Healthcare</td>\n",
              "      <td>16300.0</td>\n",
              "      <td>Santa Clara</td>\n",
              "      <td>CA</td>\n",
              "      <td>United States</td>\n",
              "      <td>Diagnostics &amp; Research</td>\n",
              "      <td>79.984190</td>\n",
              "      <td>0.007802</td>\n",
              "      <td>2807514</td>\n",
              "      <td>86.130</td>\n",
              "      <td>86.30</td>\n",
              "      <td>2807514</td>\n",
              "      <td>0.72</td>\n",
              "      <td>1847602</td>\n",
              "      <td>2.654344e+10</td>\n",
              "      <td>2616254</td>\n",
              "      <td>84.3700</td>\n",
              "      <td>87.20</td>\n",
              "      <td>90.64</td>\n",
              "      <td>24.140057</td>\n",
              "      <td>0.92</td>\n",
              "      <td>0.0084</td>\n",
              "      <td>1400.0</td>\n",
              "      <td>86.480</td>\n",
              "      <td>4.987</td>\n",
              "      <td>3.57</td>\n",
              "      <td>NaN</td>\n",
              "      <td>15.636</td>\n",
              "      <td>5258241.0</td>\n",
              "      <td>2.55</td>\n",
              "      <td>308518035.0</td>\n",
              "      <td>2.611031e+10</td>\n",
              "      <td>86.30</td>\n",
              "      <td>0.180</td>\n",
              "    </tr>\n",
              "    <tr>\n",
              "      <th>1</th>\n",
              "      <td>AA</td>\n",
              "      <td>Alcoa Corporation Common Stock</td>\n",
              "      <td>N</td>\n",
              "      <td>N</td>\n",
              "      <td></td>\n",
              "      <td>15212</td>\n",
              "      <td>Basic Materials</td>\n",
              "      <td>13800.0</td>\n",
              "      <td>Pittsburgh</td>\n",
              "      <td>PA</td>\n",
              "      <td>United States</td>\n",
              "      <td>Aluminum</td>\n",
              "      <td>13.778677</td>\n",
              "      <td>0.041096</td>\n",
              "      <td>9643371</td>\n",
              "      <td>8.760</td>\n",
              "      <td>9.12</td>\n",
              "      <td>9643371</td>\n",
              "      <td>NaN</td>\n",
              "      <td>11237725</td>\n",
              "      <td>1.814570e+09</td>\n",
              "      <td>9784741</td>\n",
              "      <td>8.9250</td>\n",
              "      <td>9.90</td>\n",
              "      <td>24.63</td>\n",
              "      <td>-40.666668</td>\n",
              "      <td>NaN</td>\n",
              "      <td>NaN</td>\n",
              "      <td>1800.0</td>\n",
              "      <td>9.790</td>\n",
              "      <td>0.417</td>\n",
              "      <td>-0.24</td>\n",
              "      <td>NaN</td>\n",
              "      <td>22.994</td>\n",
              "      <td>11633009.0</td>\n",
              "      <td>1.10</td>\n",
              "      <td>185121237.0</td>\n",
              "      <td>4.210365e+09</td>\n",
              "      <td>9.12</td>\n",
              "      <td>0.090</td>\n",
              "    </tr>\n",
              "    <tr>\n",
              "      <th>2</th>\n",
              "      <td>AADR</td>\n",
              "      <td>AdvisorShares Dorsey Wright ADR ETF</td>\n",
              "      <td>P</td>\n",
              "      <td>Y</td>\n",
              "      <td></td>\n",
              "      <td>NaN</td>\n",
              "      <td>NaN</td>\n",
              "      <td>NaN</td>\n",
              "      <td>NaN</td>\n",
              "      <td>NaN</td>\n",
              "      <td>NaN</td>\n",
              "      <td>NaN</td>\n",
              "      <td>49.253677</td>\n",
              "      <td>NaN</td>\n",
              "      <td>3914</td>\n",
              "      <td>48.275</td>\n",
              "      <td>47.59</td>\n",
              "      <td>3914</td>\n",
              "      <td>NaN</td>\n",
              "      <td>3019</td>\n",
              "      <td>NaN</td>\n",
              "      <td>18675</td>\n",
              "      <td>47.3664</td>\n",
              "      <td>0.00</td>\n",
              "      <td>57.51</td>\n",
              "      <td>NaN</td>\n",
              "      <td>NaN</td>\n",
              "      <td>NaN</td>\n",
              "      <td>800.0</td>\n",
              "      <td>48.221</td>\n",
              "      <td>NaN</td>\n",
              "      <td>NaN</td>\n",
              "      <td>NaN</td>\n",
              "      <td>NaN</td>\n",
              "      <td>NaN</td>\n",
              "      <td>NaN</td>\n",
              "      <td>NaN</td>\n",
              "      <td>NaN</td>\n",
              "      <td>47.59</td>\n",
              "      <td>0.008</td>\n",
              "    </tr>\n",
              "    <tr>\n",
              "      <th>3</th>\n",
              "      <td>AAL</td>\n",
              "      <td>American Airlines Group, Inc. - Common Stock</td>\n",
              "      <td>Q</td>\n",
              "      <td>N</td>\n",
              "      <td>N</td>\n",
              "      <td>76155</td>\n",
              "      <td>Industrials</td>\n",
              "      <td>131500.0</td>\n",
              "      <td>Fort Worth</td>\n",
              "      <td>TX</td>\n",
              "      <td>United States</td>\n",
              "      <td>Airlines</td>\n",
              "      <td>20.709190</td>\n",
              "      <td>0.035907</td>\n",
              "      <td>66709542</td>\n",
              "      <td>11.140</td>\n",
              "      <td>12.43</td>\n",
              "      <td>66709542</td>\n",
              "      <td>0.40</td>\n",
              "      <td>99314752</td>\n",
              "      <td>5.066270e+09</td>\n",
              "      <td>69955775</td>\n",
              "      <td>11.0700</td>\n",
              "      <td>11.94</td>\n",
              "      <td>34.99</td>\n",
              "      <td>-299.500000</td>\n",
              "      <td>1.14</td>\n",
              "      <td>0.0359</td>\n",
              "      <td>4000.0</td>\n",
              "      <td>12.550</td>\n",
              "      <td>0.796</td>\n",
              "      <td>-0.04</td>\n",
              "      <td>NaN</td>\n",
              "      <td>-6.233</td>\n",
              "      <td>119303588.0</td>\n",
              "      <td>1.49</td>\n",
              "      <td>416754073.0</td>\n",
              "      <td>3.478515e+10</td>\n",
              "      <td>12.43</td>\n",
              "      <td>0.100</td>\n",
              "    </tr>\n",
              "    <tr>\n",
              "      <th>4</th>\n",
              "      <td>AAME</td>\n",
              "      <td>Atlantic American Corporation - Common Stock</td>\n",
              "      <td>Q</td>\n",
              "      <td>N</td>\n",
              "      <td>N</td>\n",
              "      <td>30319</td>\n",
              "      <td>Financial Services</td>\n",
              "      <td>151.0</td>\n",
              "      <td>Atlanta</td>\n",
              "      <td>GA</td>\n",
              "      <td>United States</td>\n",
              "      <td>Insurance—Life</td>\n",
              "      <td>2.017721</td>\n",
              "      <td>0.010256</td>\n",
              "      <td>1185</td>\n",
              "      <td>1.950</td>\n",
              "      <td>1.95</td>\n",
              "      <td>1185</td>\n",
              "      <td>NaN</td>\n",
              "      <td>453</td>\n",
              "      <td>3.832200e+07</td>\n",
              "      <td>2308</td>\n",
              "      <td>1.8300</td>\n",
              "      <td>0.00</td>\n",
              "      <td>2.95</td>\n",
              "      <td>NaN</td>\n",
              "      <td>0.65</td>\n",
              "      <td>NaN</td>\n",
              "      <td>800.0</td>\n",
              "      <td>1.950</td>\n",
              "      <td>0.371</td>\n",
              "      <td>NaN</td>\n",
              "      <td>NaN</td>\n",
              "      <td>4.964</td>\n",
              "      <td>1620.0</td>\n",
              "      <td>0.46</td>\n",
              "      <td>4879047.0</td>\n",
              "      <td>6.778967e+07</td>\n",
              "      <td>1.95</td>\n",
              "      <td>0.020</td>\n",
              "    </tr>\n",
              "  </tbody>\n",
              "</table>\n",
              "</div>"
            ],
            "text/plain": [
              "  symbol  ... latest_dividend\n",
              "0      A  ...           0.180\n",
              "1     AA  ...           0.090\n",
              "2   AADR  ...           0.008\n",
              "3    AAL  ...           0.100\n",
              "4   AAME  ...           0.020\n",
              "\n",
              "[5 rows x 40 columns]"
            ]
          },
          "metadata": {
            "tags": []
          },
          "execution_count": 21
        }
      ]
    },
    {
      "cell_type": "markdown",
      "metadata": {
        "id": "b4EWiKECo6pc",
        "colab_type": "text"
      },
      "source": [
        "#### Keep only dividend stocks"
      ]
    },
    {
      "cell_type": "markdown",
      "metadata": {
        "id": "sue4MxuJo_js",
        "colab_type": "text"
      },
      "source": [
        "Now that we have a dataset with full financial data per stock, we can filter it down to keep only ones that have dividends."
      ]
    },
    {
      "cell_type": "code",
      "metadata": {
        "id": "E_QxEVLTWFf-",
        "colab_type": "code",
        "colab": {
          "base_uri": "https://localhost:8080/",
          "height": 441
        },
        "outputId": "39d2bb15-08aa-404d-c354-6b36543ea022"
      },
      "source": [
        "len(merged_df[(merged_df['dividendRate'].isnull() == False) & (merged_df['latest_dividend'].isnull() == False)])\n",
        "\n",
        "dividend_df = merged_df[(merged_df['dividendRate'].isnull() == False) & (merged_df['latest_dividend'].isnull() == False)]\n",
        "dividend_df.head()"
      ],
      "execution_count": null,
      "outputs": [
        {
          "output_type": "execute_result",
          "data": {
            "text/html": [
              "<div>\n",
              "<style scoped>\n",
              "    .dataframe tbody tr th:only-of-type {\n",
              "        vertical-align: middle;\n",
              "    }\n",
              "\n",
              "    .dataframe tbody tr th {\n",
              "        vertical-align: top;\n",
              "    }\n",
              "\n",
              "    .dataframe thead th {\n",
              "        text-align: right;\n",
              "    }\n",
              "</style>\n",
              "<table border=\"1\" class=\"dataframe\">\n",
              "  <thead>\n",
              "    <tr style=\"text-align: right;\">\n",
              "      <th></th>\n",
              "      <th>symbol</th>\n",
              "      <th>security_name</th>\n",
              "      <th>listing_exchange</th>\n",
              "      <th>etf</th>\n",
              "      <th>financial_status</th>\n",
              "      <th>zip</th>\n",
              "      <th>sector</th>\n",
              "      <th>fullTimeEmployees</th>\n",
              "      <th>city</th>\n",
              "      <th>state</th>\n",
              "      <th>country</th>\n",
              "      <th>industry</th>\n",
              "      <th>twoHundredDayAverage</th>\n",
              "      <th>trailingAnnualDividendYield</th>\n",
              "      <th>averageDailyVolume10Day</th>\n",
              "      <th>regularMarketPreviousClose</th>\n",
              "      <th>open</th>\n",
              "      <th>averageVolume10days</th>\n",
              "      <th>dividendRate</th>\n",
              "      <th>regularMarketVolume</th>\n",
              "      <th>marketCap</th>\n",
              "      <th>averageVolume</th>\n",
              "      <th>dayLow</th>\n",
              "      <th>ask</th>\n",
              "      <th>fiftyTwoWeekHigh</th>\n",
              "      <th>forwardPE</th>\n",
              "      <th>fiveYearAvgDividendYield</th>\n",
              "      <th>dividendYield</th>\n",
              "      <th>bidSize</th>\n",
              "      <th>dayHigh</th>\n",
              "      <th>enterpriseToRevenue</th>\n",
              "      <th>forwardEps</th>\n",
              "      <th>revenueQuarterlyGrowth</th>\n",
              "      <th>bookValue</th>\n",
              "      <th>sharesShort</th>\n",
              "      <th>shortRatio</th>\n",
              "      <th>floatShares</th>\n",
              "      <th>enterpriseValue</th>\n",
              "      <th>regularMarketPrice</th>\n",
              "      <th>latest_dividend</th>\n",
              "    </tr>\n",
              "  </thead>\n",
              "  <tbody>\n",
              "    <tr>\n",
              "      <th>0</th>\n",
              "      <td>A</td>\n",
              "      <td>Agilent Technologies, Inc. Common Stock</td>\n",
              "      <td>N</td>\n",
              "      <td>N</td>\n",
              "      <td></td>\n",
              "      <td>95051</td>\n",
              "      <td>Healthcare</td>\n",
              "      <td>16300.0</td>\n",
              "      <td>Santa Clara</td>\n",
              "      <td>CA</td>\n",
              "      <td>United States</td>\n",
              "      <td>Diagnostics &amp; Research</td>\n",
              "      <td>79.98419</td>\n",
              "      <td>0.007802</td>\n",
              "      <td>2807514</td>\n",
              "      <td>86.13</td>\n",
              "      <td>86.30</td>\n",
              "      <td>2807514</td>\n",
              "      <td>0.72</td>\n",
              "      <td>1847602</td>\n",
              "      <td>2.654344e+10</td>\n",
              "      <td>2616254</td>\n",
              "      <td>84.37</td>\n",
              "      <td>87.20</td>\n",
              "      <td>90.64</td>\n",
              "      <td>24.140057</td>\n",
              "      <td>0.92</td>\n",
              "      <td>0.0084</td>\n",
              "      <td>1400.0</td>\n",
              "      <td>86.48</td>\n",
              "      <td>4.987</td>\n",
              "      <td>3.57</td>\n",
              "      <td>NaN</td>\n",
              "      <td>15.636</td>\n",
              "      <td>5258241.0</td>\n",
              "      <td>2.55</td>\n",
              "      <td>3.085180e+08</td>\n",
              "      <td>2.611031e+10</td>\n",
              "      <td>86.30</td>\n",
              "      <td>0.18</td>\n",
              "    </tr>\n",
              "    <tr>\n",
              "      <th>3</th>\n",
              "      <td>AAL</td>\n",
              "      <td>American Airlines Group, Inc. - Common Stock</td>\n",
              "      <td>Q</td>\n",
              "      <td>N</td>\n",
              "      <td>N</td>\n",
              "      <td>76155</td>\n",
              "      <td>Industrials</td>\n",
              "      <td>131500.0</td>\n",
              "      <td>Fort Worth</td>\n",
              "      <td>TX</td>\n",
              "      <td>United States</td>\n",
              "      <td>Airlines</td>\n",
              "      <td>20.70919</td>\n",
              "      <td>0.035907</td>\n",
              "      <td>66709542</td>\n",
              "      <td>11.14</td>\n",
              "      <td>12.43</td>\n",
              "      <td>66709542</td>\n",
              "      <td>0.40</td>\n",
              "      <td>99314752</td>\n",
              "      <td>5.066270e+09</td>\n",
              "      <td>69955775</td>\n",
              "      <td>11.07</td>\n",
              "      <td>11.94</td>\n",
              "      <td>34.99</td>\n",
              "      <td>-299.500000</td>\n",
              "      <td>1.14</td>\n",
              "      <td>0.0359</td>\n",
              "      <td>4000.0</td>\n",
              "      <td>12.55</td>\n",
              "      <td>0.796</td>\n",
              "      <td>-0.04</td>\n",
              "      <td>NaN</td>\n",
              "      <td>-6.233</td>\n",
              "      <td>119303588.0</td>\n",
              "      <td>1.49</td>\n",
              "      <td>4.167541e+08</td>\n",
              "      <td>3.478515e+10</td>\n",
              "      <td>12.43</td>\n",
              "      <td>0.10</td>\n",
              "    </tr>\n",
              "    <tr>\n",
              "      <th>5</th>\n",
              "      <td>AAP</td>\n",
              "      <td>Advance Auto Parts Inc Advance Auto Parts Inc W/I</td>\n",
              "      <td>N</td>\n",
              "      <td>N</td>\n",
              "      <td></td>\n",
              "      <td>27604</td>\n",
              "      <td>Consumer Cyclical</td>\n",
              "      <td>39000.0</td>\n",
              "      <td>Raleigh</td>\n",
              "      <td>NC</td>\n",
              "      <td>United States</td>\n",
              "      <td>Specialty Retail</td>\n",
              "      <td>133.39670</td>\n",
              "      <td>0.001770</td>\n",
              "      <td>1514942</td>\n",
              "      <td>135.58</td>\n",
              "      <td>137.50</td>\n",
              "      <td>1514942</td>\n",
              "      <td>1.00</td>\n",
              "      <td>798726</td>\n",
              "      <td>9.792332e+09</td>\n",
              "      <td>1208891</td>\n",
              "      <td>136.31</td>\n",
              "      <td>141.63</td>\n",
              "      <td>171.43</td>\n",
              "      <td>16.593678</td>\n",
              "      <td>0.18</td>\n",
              "      <td>0.0071</td>\n",
              "      <td>1300.0</td>\n",
              "      <td>141.78</td>\n",
              "      <td>1.175</td>\n",
              "      <td>8.54</td>\n",
              "      <td>NaN</td>\n",
              "      <td>51.606</td>\n",
              "      <td>1691705.0</td>\n",
              "      <td>1.57</td>\n",
              "      <td>6.857524e+07</td>\n",
              "      <td>1.141075e+10</td>\n",
              "      <td>137.50</td>\n",
              "      <td>0.25</td>\n",
              "    </tr>\n",
              "    <tr>\n",
              "      <th>6</th>\n",
              "      <td>AAPL</td>\n",
              "      <td>Apple Inc. - Common Stock</td>\n",
              "      <td>Q</td>\n",
              "      <td>N</td>\n",
              "      <td>N</td>\n",
              "      <td>95014</td>\n",
              "      <td>Technology</td>\n",
              "      <td>137000.0</td>\n",
              "      <td>Cupertino</td>\n",
              "      <td>CA</td>\n",
              "      <td>United States</td>\n",
              "      <td>Consumer Electronics</td>\n",
              "      <td>286.99980</td>\n",
              "      <td>0.009724</td>\n",
              "      <td>27552328</td>\n",
              "      <td>316.73</td>\n",
              "      <td>316.14</td>\n",
              "      <td>27552328</td>\n",
              "      <td>3.28</td>\n",
              "      <td>26969168</td>\n",
              "      <td>1.378794e+12</td>\n",
              "      <td>50365603</td>\n",
              "      <td>313.09</td>\n",
              "      <td>316.98</td>\n",
              "      <td>327.85</td>\n",
              "      <td>21.596062</td>\n",
              "      <td>1.59</td>\n",
              "      <td>0.0103</td>\n",
              "      <td>800.0</td>\n",
              "      <td>318.71</td>\n",
              "      <td>5.108</td>\n",
              "      <td>14.73</td>\n",
              "      <td>NaN</td>\n",
              "      <td>18.137</td>\n",
              "      <td>33592445.0</td>\n",
              "      <td>0.89</td>\n",
              "      <td>4.329827e+09</td>\n",
              "      <td>1.368917e+12</td>\n",
              "      <td>316.14</td>\n",
              "      <td>0.82</td>\n",
              "    </tr>\n",
              "    <tr>\n",
              "      <th>7</th>\n",
              "      <td>AAT</td>\n",
              "      <td>American Assets Trust, Inc. Common Stock</td>\n",
              "      <td>N</td>\n",
              "      <td>N</td>\n",
              "      <td></td>\n",
              "      <td>92130</td>\n",
              "      <td>Real Estate</td>\n",
              "      <td>205.0</td>\n",
              "      <td>San Diego</td>\n",
              "      <td>CA</td>\n",
              "      <td>United States</td>\n",
              "      <td>REIT—Diversified</td>\n",
              "      <td>37.83544</td>\n",
              "      <td>0.042963</td>\n",
              "      <td>349871</td>\n",
              "      <td>27.00</td>\n",
              "      <td>28.01</td>\n",
              "      <td>349871</td>\n",
              "      <td>0.80</td>\n",
              "      <td>330037</td>\n",
              "      <td>1.687307e+09</td>\n",
              "      <td>454533</td>\n",
              "      <td>27.21</td>\n",
              "      <td>31.42</td>\n",
              "      <td>49.26</td>\n",
              "      <td>20.807407</td>\n",
              "      <td>2.59</td>\n",
              "      <td>0.0296</td>\n",
              "      <td>800.0</td>\n",
              "      <td>28.52</td>\n",
              "      <td>7.849</td>\n",
              "      <td>1.35</td>\n",
              "      <td>NaN</td>\n",
              "      <td>21.713</td>\n",
              "      <td>706006.0</td>\n",
              "      <td>1.70</td>\n",
              "      <td>5.308802e+07</td>\n",
              "      <td>2.936203e+09</td>\n",
              "      <td>28.01</td>\n",
              "      <td>0.30</td>\n",
              "    </tr>\n",
              "  </tbody>\n",
              "</table>\n",
              "</div>"
            ],
            "text/plain": [
              "  symbol  ... latest_dividend\n",
              "0      A  ...            0.18\n",
              "3    AAL  ...            0.10\n",
              "5    AAP  ...            0.25\n",
              "6   AAPL  ...            0.82\n",
              "7    AAT  ...            0.30\n",
              "\n",
              "[5 rows x 40 columns]"
            ]
          },
          "metadata": {
            "tags": []
          },
          "execution_count": 44
        }
      ]
    },
    {
      "cell_type": "markdown",
      "metadata": {
        "id": "JK5-AXq4YCCm",
        "colab_type": "text"
      },
      "source": [
        "\n",
        "## Clean Dividend Stock Data\n",
        "\n",
        "\n",
        "We will be using the the *feature_selector* library to remove fields that are not necessary."
      ]
    },
    {
      "cell_type": "code",
      "metadata": {
        "id": "NN5UC9u1ZVY1",
        "colab_type": "code",
        "colab": {}
      },
      "source": [
        "# Install dependencies -- keep in mind, you may need to restart the runtime,\n",
        "# so be sure to save the dataframes before doing so\n",
        "!pip install feature_selector"
      ],
      "execution_count": null,
      "outputs": []
    },
    {
      "cell_type": "code",
      "metadata": {
        "id": "CcNcToJ5bqsF",
        "colab_type": "code",
        "colab": {}
      },
      "source": [
        "from feature_selector import FeatureSelector\n",
        "import pandas as pd\n",
        "\n",
        "# Here I am loading the CSV from my google drive\n",
        "dividend_df = pd.read_csv('/content/drive/My Drive/dividend_stocks_only.csv')\n",
        "\n",
        "fs = FeatureSelector(data=dividend_df, labels=list(dividend_df.columns.values))"
      ],
      "execution_count": null,
      "outputs": []
    },
    {
      "cell_type": "markdown",
      "metadata": {
        "id": "a4ITkTA5ZTzz",
        "colab_type": "text"
      },
      "source": [
        "### Identify Missing Features"
      ]
    },
    {
      "cell_type": "code",
      "metadata": {
        "id": "dl6r29QgxeoP",
        "colab_type": "code",
        "colab": {
          "base_uri": "https://localhost:8080/",
          "height": 1000
        },
        "outputId": "a3dc094d-f7dd-4df5-ab83-fe1b8b0c05bd"
      },
      "source": [
        "# Find columns, also known as features, that have 30% or more of their data missing\n",
        "# These columns can be eliminated\n",
        "fs.identify_missing(missing_threshold=0.3)\n",
        "\n",
        "# Get a table showing the fraction of missing data per column\n",
        "fs.missing_stats"
      ],
      "execution_count": null,
      "outputs": [
        {
          "output_type": "stream",
          "text": [
            "4 features with greater than 0.30 missing values.\n",
            "\n"
          ],
          "name": "stdout"
        },
        {
          "output_type": "execute_result",
          "data": {
            "text/html": [
              "<div>\n",
              "<style scoped>\n",
              "    .dataframe tbody tr th:only-of-type {\n",
              "        vertical-align: middle;\n",
              "    }\n",
              "\n",
              "    .dataframe tbody tr th {\n",
              "        vertical-align: top;\n",
              "    }\n",
              "\n",
              "    .dataframe thead th {\n",
              "        text-align: right;\n",
              "    }\n",
              "</style>\n",
              "<table border=\"1\" class=\"dataframe\">\n",
              "  <thead>\n",
              "    <tr style=\"text-align: right;\">\n",
              "      <th></th>\n",
              "      <th>missing_fraction</th>\n",
              "    </tr>\n",
              "  </thead>\n",
              "  <tbody>\n",
              "    <tr>\n",
              "      <th>revenueQuarterlyGrowth</th>\n",
              "      <td>1.000000</td>\n",
              "    </tr>\n",
              "    <tr>\n",
              "      <th>financial_status</th>\n",
              "      <td>0.673027</td>\n",
              "    </tr>\n",
              "    <tr>\n",
              "      <th>forwardPE</th>\n",
              "      <td>0.303249</td>\n",
              "    </tr>\n",
              "    <tr>\n",
              "      <th>forwardEps</th>\n",
              "      <td>0.302218</td>\n",
              "    </tr>\n",
              "    <tr>\n",
              "      <th>fullTimeEmployees</th>\n",
              "      <td>0.293450</td>\n",
              "    </tr>\n",
              "    <tr>\n",
              "      <th>floatShares</th>\n",
              "      <td>0.224342</td>\n",
              "    </tr>\n",
              "    <tr>\n",
              "      <th>fiveYearAvgDividendYield</th>\n",
              "      <td>0.220732</td>\n",
              "    </tr>\n",
              "    <tr>\n",
              "      <th>enterpriseToRevenue</th>\n",
              "      <td>0.115008</td>\n",
              "    </tr>\n",
              "    <tr>\n",
              "      <th>trailingAnnualDividendYield</th>\n",
              "      <td>0.087674</td>\n",
              "    </tr>\n",
              "    <tr>\n",
              "      <th>state</th>\n",
              "      <td>0.080970</td>\n",
              "    </tr>\n",
              "    <tr>\n",
              "      <th>bookValue</th>\n",
              "      <td>0.074781</td>\n",
              "    </tr>\n",
              "    <tr>\n",
              "      <th>enterpriseValue</th>\n",
              "      <td>0.061372</td>\n",
              "    </tr>\n",
              "    <tr>\n",
              "      <th>shortRatio</th>\n",
              "      <td>0.043837</td>\n",
              "    </tr>\n",
              "    <tr>\n",
              "      <th>sharesShort</th>\n",
              "      <td>0.043321</td>\n",
              "    </tr>\n",
              "    <tr>\n",
              "      <th>zip</th>\n",
              "      <td>0.010315</td>\n",
              "    </tr>\n",
              "    <tr>\n",
              "      <th>marketCap</th>\n",
              "      <td>0.008767</td>\n",
              "    </tr>\n",
              "    <tr>\n",
              "      <th>industry</th>\n",
              "      <td>0.006704</td>\n",
              "    </tr>\n",
              "    <tr>\n",
              "      <th>sector</th>\n",
              "      <td>0.006704</td>\n",
              "    </tr>\n",
              "    <tr>\n",
              "      <th>city</th>\n",
              "      <td>0.001031</td>\n",
              "    </tr>\n",
              "    <tr>\n",
              "      <th>dividendYield</th>\n",
              "      <td>0.000516</td>\n",
              "    </tr>\n",
              "    <tr>\n",
              "      <th>fiftyTwoWeekHigh</th>\n",
              "      <td>0.000000</td>\n",
              "    </tr>\n",
              "    <tr>\n",
              "      <th>dayHigh</th>\n",
              "      <td>0.000000</td>\n",
              "    </tr>\n",
              "    <tr>\n",
              "      <th>bidSize</th>\n",
              "      <td>0.000000</td>\n",
              "    </tr>\n",
              "    <tr>\n",
              "      <th>regularMarketPrice</th>\n",
              "      <td>0.000000</td>\n",
              "    </tr>\n",
              "    <tr>\n",
              "      <th>symbol</th>\n",
              "      <td>0.000000</td>\n",
              "    </tr>\n",
              "    <tr>\n",
              "      <th>ask</th>\n",
              "      <td>0.000000</td>\n",
              "    </tr>\n",
              "    <tr>\n",
              "      <th>dayLow</th>\n",
              "      <td>0.000000</td>\n",
              "    </tr>\n",
              "    <tr>\n",
              "      <th>averageVolume</th>\n",
              "      <td>0.000000</td>\n",
              "    </tr>\n",
              "    <tr>\n",
              "      <th>security_name</th>\n",
              "      <td>0.000000</td>\n",
              "    </tr>\n",
              "    <tr>\n",
              "      <th>regularMarketVolume</th>\n",
              "      <td>0.000000</td>\n",
              "    </tr>\n",
              "    <tr>\n",
              "      <th>dividendRate</th>\n",
              "      <td>0.000000</td>\n",
              "    </tr>\n",
              "    <tr>\n",
              "      <th>averageVolume10days</th>\n",
              "      <td>0.000000</td>\n",
              "    </tr>\n",
              "    <tr>\n",
              "      <th>open</th>\n",
              "      <td>0.000000</td>\n",
              "    </tr>\n",
              "    <tr>\n",
              "      <th>regularMarketPreviousClose</th>\n",
              "      <td>0.000000</td>\n",
              "    </tr>\n",
              "    <tr>\n",
              "      <th>averageDailyVolume10Day</th>\n",
              "      <td>0.000000</td>\n",
              "    </tr>\n",
              "    <tr>\n",
              "      <th>twoHundredDayAverage</th>\n",
              "      <td>0.000000</td>\n",
              "    </tr>\n",
              "    <tr>\n",
              "      <th>country</th>\n",
              "      <td>0.000000</td>\n",
              "    </tr>\n",
              "    <tr>\n",
              "      <th>etf</th>\n",
              "      <td>0.000000</td>\n",
              "    </tr>\n",
              "    <tr>\n",
              "      <th>listing_exchange</th>\n",
              "      <td>0.000000</td>\n",
              "    </tr>\n",
              "    <tr>\n",
              "      <th>latest_dividend</th>\n",
              "      <td>0.000000</td>\n",
              "    </tr>\n",
              "  </tbody>\n",
              "</table>\n",
              "</div>"
            ],
            "text/plain": [
              "                             missing_fraction\n",
              "revenueQuarterlyGrowth               1.000000\n",
              "financial_status                     0.673027\n",
              "forwardPE                            0.303249\n",
              "forwardEps                           0.302218\n",
              "fullTimeEmployees                    0.293450\n",
              "floatShares                          0.224342\n",
              "fiveYearAvgDividendYield             0.220732\n",
              "enterpriseToRevenue                  0.115008\n",
              "trailingAnnualDividendYield          0.087674\n",
              "state                                0.080970\n",
              "bookValue                            0.074781\n",
              "enterpriseValue                      0.061372\n",
              "shortRatio                           0.043837\n",
              "sharesShort                          0.043321\n",
              "zip                                  0.010315\n",
              "marketCap                            0.008767\n",
              "industry                             0.006704\n",
              "sector                               0.006704\n",
              "city                                 0.001031\n",
              "dividendYield                        0.000516\n",
              "fiftyTwoWeekHigh                     0.000000\n",
              "dayHigh                              0.000000\n",
              "bidSize                              0.000000\n",
              "regularMarketPrice                   0.000000\n",
              "symbol                               0.000000\n",
              "ask                                  0.000000\n",
              "dayLow                               0.000000\n",
              "averageVolume                        0.000000\n",
              "security_name                        0.000000\n",
              "regularMarketVolume                  0.000000\n",
              "dividendRate                         0.000000\n",
              "averageVolume10days                  0.000000\n",
              "open                                 0.000000\n",
              "regularMarketPreviousClose           0.000000\n",
              "averageDailyVolume10Day              0.000000\n",
              "twoHundredDayAverage                 0.000000\n",
              "country                              0.000000\n",
              "etf                                  0.000000\n",
              "listing_exchange                     0.000000\n",
              "latest_dividend                      0.000000"
            ]
          },
          "metadata": {
            "tags": []
          },
          "execution_count": 3
        }
      ]
    },
    {
      "cell_type": "code",
      "metadata": {
        "id": "ekDjECgox6Ba",
        "colab_type": "code",
        "colab": {
          "base_uri": "https://localhost:8080/",
          "height": 480
        },
        "outputId": "c7994576-60fd-43f1-f4a0-7b2664dc1566"
      },
      "source": [
        "# Plot the data to visually examine the extent of missing data\n",
        "fs.plot_missing()"
      ],
      "execution_count": null,
      "outputs": [
        {
          "output_type": "display_data",
          "data": {
            "image/png": "[encoded data removed]",
            "text/plain": [
              "<matplotlib.figure.Figure at 0x7fdf29efaa20>"
            ]
          },
          "metadata": {
            "tags": []
          }
        }
      ]
    },
    {
      "cell_type": "markdown",
      "metadata": {
        "id": "Fh7eaxljyj5c",
        "colab_type": "text"
      },
      "source": [
        "The bar chart above demonstrates that out of 40 labels/features/columns/however you want to call them: \n",
        "\n",
        "- 32 had less than 10% data missing\n",
        "- 1 had between 10% and 20% data missing\n",
        "- 3 had between 20% to 30% of data missing\n",
        "- 2 had more than 30% but less than 40% of data missing\n",
        "- 1 had between 60% to 70% of its data missing\n",
        "- 1 field was completely empty of data"
      ]
    },
    {
      "cell_type": "markdown",
      "metadata": {
        "id": "j6f3bO08zeAC",
        "colab_type": "text"
      },
      "source": [
        "### Identify Collinear Features\n",
        "\n",
        "These are features that have a high correlation between the values they share between each other. For example, if one column's value increases at the same rate as another. It's better to just keep one of them instead of both if you will use that data for Machine Learning."
      ]
    },
    {
      "cell_type": "code",
      "metadata": {
        "id": "HD_K2cI-zbll",
        "colab_type": "code",
        "colab": {
          "base_uri": "https://localhost:8080/",
          "height": 159
        },
        "outputId": "0987f5c3-a4aa-4c92-8b4d-bd39553b9d51"
      },
      "source": [
        "# Find features that are highly correlated -- more than 98%\n",
        "fs.identify_collinear(correlation_threshold=0.98)\n",
        "# Get list of related features\n",
        "fs.ops['collinear']"
      ],
      "execution_count": null,
      "outputs": [
        {
          "output_type": "stream",
          "text": [
            "6 features with a correlation magnitude greater than 0.98.\n",
            "\n"
          ],
          "name": "stdout"
        },
        {
          "output_type": "execute_result",
          "data": {
            "text/plain": [
              "['regularMarketPreviousClose',\n",
              " 'open',\n",
              " 'averageVolume10days',\n",
              " 'dayLow',\n",
              " 'dayHigh',\n",
              " 'regularMarketPrice']"
            ]
          },
          "metadata": {
            "tags": []
          },
          "execution_count": 5
        }
      ]
    },
    {
      "cell_type": "code",
      "metadata": {
        "id": "UQd2W3Cx0ypL",
        "colab_type": "code",
        "colab": {
          "base_uri": "https://localhost:8080/",
          "height": 756
        },
        "outputId": "eee0ebee-97e6-4684-eeef-ea166ee35460"
      },
      "source": [
        "# Plot the correlation matrix\n",
        "fs.plot_collinear(plot_all=True)"
      ],
      "execution_count": null,
      "outputs": [
        {
          "output_type": "display_data",
          "data": {
            "image/png": "[encoded data removed]",
            "text/plain": [
              "<matplotlib.figure.Figure at 0x7fdf1770e5c0>"
            ]
          },
          "metadata": {
            "tags": []
          }
        }
      ]
    },
    {
      "cell_type": "code",
      "metadata": {
        "id": "tRsNnT3Z1EpQ",
        "colab_type": "code",
        "colab": {
          "base_uri": "https://localhost:8080/",
          "height": 1000
        },
        "outputId": "b8dd3410-8224-43dd-9707-8a03b4ac24d6"
      },
      "source": [
        "# Plot only highly correlated features\n",
        "fs.plot_collinear()"
      ],
      "execution_count": null,
      "outputs": [
        {
          "output_type": "display_data",
          "data": {
            "image/png": "[encoded data removed]",
            "text/plain": [
              "<matplotlib.figure.Figure at 0x7fdf14d78160>"
            ]
          },
          "metadata": {
            "tags": []
          }
        }
      ]
    },
    {
      "cell_type": "markdown",
      "metadata": {
        "id": "p-WV2Y4K0fv4",
        "colab_type": "text"
      },
      "source": [
        "Now, we may not want to drop all these features but we can certainly choose to drop some of them. In my case, I'll drop *averageVolume10days*, *regularMarketPreviousClose*, and *twoHundredDayAverage*.\n",
        "\n",
        "In the future, I may choose to drop more, but for now I think this is safe to do."
      ]
    },
    {
      "cell_type": "markdown",
      "metadata": {
        "id": "zR1qVXRC1wUp",
        "colab_type": "text"
      },
      "source": [
        "### Identify Single Unique Values\n",
        "\n",
        "Sometimes we see that the values for all rows in a column are the exact same. If they offer no variety, we can eliminate the feature."
      ]
    },
    {
      "cell_type": "code",
      "metadata": {
        "id": "xoP5Zcu41ta-",
        "colab_type": "code",
        "colab": {
          "base_uri": "https://localhost:8080/",
          "height": 70
        },
        "outputId": "d5c67ff9-9f22-4ac1-87ba-549236c99767"
      },
      "source": [
        "# Check how many features have a single unique value\n",
        "fs.identify_single_unique()\n",
        "# Get the list of features\n",
        "fs.ops['single_unique']"
      ],
      "execution_count": null,
      "outputs": [
        {
          "output_type": "stream",
          "text": [
            "1 features with a single unique value.\n",
            "\n"
          ],
          "name": "stdout"
        },
        {
          "output_type": "execute_result",
          "data": {
            "text/plain": [
              "['etf']"
            ]
          },
          "metadata": {
            "tags": []
          },
          "execution_count": 8
        }
      ]
    },
    {
      "cell_type": "markdown",
      "metadata": {
        "id": "4-65Lfpt2Vw7",
        "colab_type": "text"
      },
      "source": [
        "So it seems none of the stocks we have are ETFs (_ _ sad face :'( _ _ ). Well if that is the case, let's confirm and drop if needed.  "
      ]
    },
    {
      "cell_type": "code",
      "metadata": {
        "id": "9njLSgrl2yEW",
        "colab_type": "code",
        "colab": {
          "base_uri": "https://localhost:8080/",
          "height": 52
        },
        "outputId": "a0597231-6f7d-49bc-add2-526fe3b2acd3"
      },
      "source": [
        "dividend_df['etf'].value_counts()"
      ],
      "execution_count": null,
      "outputs": [
        {
          "output_type": "execute_result",
          "data": {
            "text/plain": [
              "N    1939\n",
              "Name: etf, dtype: int64"
            ]
          },
          "metadata": {
            "tags": []
          },
          "execution_count": 9
        }
      ]
    },
    {
      "cell_type": "code",
      "metadata": {
        "id": "HBVY68NF3CXN",
        "colab_type": "code",
        "colab": {
          "base_uri": "https://localhost:8080/",
          "height": 480
        },
        "outputId": "a0e5eaf1-b6a1-43ba-e3d6-4ccbdb75be48"
      },
      "source": [
        "# Confirmed so let's drop the field\n",
        "features_to_drop = fs.ops['single_unique']\n",
        "# Plot just for fun at this point\n",
        "fs.plot_unique()"
      ],
      "execution_count": null,
      "outputs": [
        {
          "output_type": "display_data",
          "data": {
            "image/png": "[encoded data removed]",
            "text/plain": [
              "<matplotlib.figure.Figure at 0x7fdf134aa0f0>"
            ]
          },
          "metadata": {
            "tags": []
          }
        }
      ]
    },
    {
      "cell_type": "markdown",
      "metadata": {
        "id": "OpIPwzmN3ePi",
        "colab_type": "text"
      },
      "source": [
        "### Drop the features identified with feature_selector\n",
        "\n"
      ]
    },
    {
      "cell_type": "code",
      "metadata": {
        "id": "mJB3km4L3doe",
        "colab_type": "code",
        "colab": {
          "base_uri": "https://localhost:8080/",
          "height": 159
        },
        "outputId": "d4d7c24d-eb9a-4c19-dce3-b2f9881a255d"
      },
      "source": [
        "features_to_drop.extend(['averageVolume10days','regularMarketPreviousClose','twoHundredDayAverage'])\n",
        "features_to_drop.extend(fs.ops['missing'])\n",
        "features_to_drop"
      ],
      "execution_count": null,
      "outputs": [
        {
          "output_type": "execute_result",
          "data": {
            "text/plain": [
              "['etf',\n",
              " 'averageVolume10days',\n",
              " 'regularMarketPreviousClose',\n",
              " 'twoHundredDayAverage',\n",
              " 'financial_status',\n",
              " 'forwardPE',\n",
              " 'forwardEps',\n",
              " 'revenueQuarterlyGrowth']"
            ]
          },
          "metadata": {
            "tags": []
          },
          "execution_count": 11
        }
      ]
    },
    {
      "cell_type": "code",
      "metadata": {
        "id": "p9Fi--oS5YYs",
        "colab_type": "code",
        "colab": {
          "base_uri": "https://localhost:8080/",
          "height": 441
        },
        "outputId": "8599481a-1fba-4c01-884f-b5ff04a80119"
      },
      "source": [
        "clean_df = dividend_df.drop(features_to_drop, axis=1)\n",
        "clean_df.head()"
      ],
      "execution_count": null,
      "outputs": [
        {
          "output_type": "execute_result",
          "data": {
            "text/html": [
              "<div>\n",
              "<style scoped>\n",
              "    .dataframe tbody tr th:only-of-type {\n",
              "        vertical-align: middle;\n",
              "    }\n",
              "\n",
              "    .dataframe tbody tr th {\n",
              "        vertical-align: top;\n",
              "    }\n",
              "\n",
              "    .dataframe thead th {\n",
              "        text-align: right;\n",
              "    }\n",
              "</style>\n",
              "<table border=\"1\" class=\"dataframe\">\n",
              "  <thead>\n",
              "    <tr style=\"text-align: right;\">\n",
              "      <th></th>\n",
              "      <th>symbol</th>\n",
              "      <th>security_name</th>\n",
              "      <th>listing_exchange</th>\n",
              "      <th>zip</th>\n",
              "      <th>sector</th>\n",
              "      <th>fullTimeEmployees</th>\n",
              "      <th>city</th>\n",
              "      <th>state</th>\n",
              "      <th>country</th>\n",
              "      <th>industry</th>\n",
              "      <th>trailingAnnualDividendYield</th>\n",
              "      <th>averageDailyVolume10Day</th>\n",
              "      <th>open</th>\n",
              "      <th>dividendRate</th>\n",
              "      <th>regularMarketVolume</th>\n",
              "      <th>marketCap</th>\n",
              "      <th>averageVolume</th>\n",
              "      <th>dayLow</th>\n",
              "      <th>ask</th>\n",
              "      <th>fiftyTwoWeekHigh</th>\n",
              "      <th>fiveYearAvgDividendYield</th>\n",
              "      <th>dividendYield</th>\n",
              "      <th>bidSize</th>\n",
              "      <th>dayHigh</th>\n",
              "      <th>enterpriseToRevenue</th>\n",
              "      <th>bookValue</th>\n",
              "      <th>sharesShort</th>\n",
              "      <th>shortRatio</th>\n",
              "      <th>floatShares</th>\n",
              "      <th>enterpriseValue</th>\n",
              "      <th>regularMarketPrice</th>\n",
              "      <th>latest_dividend</th>\n",
              "    </tr>\n",
              "  </thead>\n",
              "  <tbody>\n",
              "    <tr>\n",
              "      <th>0</th>\n",
              "      <td>A</td>\n",
              "      <td>Agilent Technologies, Inc. Common Stock</td>\n",
              "      <td>N</td>\n",
              "      <td>95051</td>\n",
              "      <td>Healthcare</td>\n",
              "      <td>16300.0</td>\n",
              "      <td>Santa Clara</td>\n",
              "      <td>CA</td>\n",
              "      <td>United States</td>\n",
              "      <td>Diagnostics &amp; Research</td>\n",
              "      <td>0.007802</td>\n",
              "      <td>2807514</td>\n",
              "      <td>86.30</td>\n",
              "      <td>0.72</td>\n",
              "      <td>1847602</td>\n",
              "      <td>2.654344e+10</td>\n",
              "      <td>2616254</td>\n",
              "      <td>84.37</td>\n",
              "      <td>87.20</td>\n",
              "      <td>90.64</td>\n",
              "      <td>0.92</td>\n",
              "      <td>0.0084</td>\n",
              "      <td>1400.0</td>\n",
              "      <td>86.48</td>\n",
              "      <td>4.987</td>\n",
              "      <td>15.636</td>\n",
              "      <td>5258241.0</td>\n",
              "      <td>2.55</td>\n",
              "      <td>3.085180e+08</td>\n",
              "      <td>2.611031e+10</td>\n",
              "      <td>86.30</td>\n",
              "      <td>0.18</td>\n",
              "    </tr>\n",
              "    <tr>\n",
              "      <th>1</th>\n",
              "      <td>AAL</td>\n",
              "      <td>American Airlines Group, Inc. - Common Stock</td>\n",
              "      <td>Q</td>\n",
              "      <td>76155</td>\n",
              "      <td>Industrials</td>\n",
              "      <td>131500.0</td>\n",
              "      <td>Fort Worth</td>\n",
              "      <td>TX</td>\n",
              "      <td>United States</td>\n",
              "      <td>Airlines</td>\n",
              "      <td>0.035907</td>\n",
              "      <td>66709542</td>\n",
              "      <td>12.43</td>\n",
              "      <td>0.40</td>\n",
              "      <td>99314752</td>\n",
              "      <td>5.066270e+09</td>\n",
              "      <td>69955775</td>\n",
              "      <td>11.07</td>\n",
              "      <td>11.94</td>\n",
              "      <td>34.99</td>\n",
              "      <td>1.14</td>\n",
              "      <td>0.0359</td>\n",
              "      <td>4000.0</td>\n",
              "      <td>12.55</td>\n",
              "      <td>0.796</td>\n",
              "      <td>-6.233</td>\n",
              "      <td>119303588.0</td>\n",
              "      <td>1.49</td>\n",
              "      <td>4.167541e+08</td>\n",
              "      <td>3.478515e+10</td>\n",
              "      <td>12.43</td>\n",
              "      <td>0.10</td>\n",
              "    </tr>\n",
              "    <tr>\n",
              "      <th>2</th>\n",
              "      <td>AAP</td>\n",
              "      <td>Advance Auto Parts Inc Advance Auto Parts Inc W/I</td>\n",
              "      <td>N</td>\n",
              "      <td>27604</td>\n",
              "      <td>Consumer Cyclical</td>\n",
              "      <td>39000.0</td>\n",
              "      <td>Raleigh</td>\n",
              "      <td>NC</td>\n",
              "      <td>United States</td>\n",
              "      <td>Specialty Retail</td>\n",
              "      <td>0.001770</td>\n",
              "      <td>1514942</td>\n",
              "      <td>137.50</td>\n",
              "      <td>1.00</td>\n",
              "      <td>798726</td>\n",
              "      <td>9.792332e+09</td>\n",
              "      <td>1208891</td>\n",
              "      <td>136.31</td>\n",
              "      <td>141.63</td>\n",
              "      <td>171.43</td>\n",
              "      <td>0.18</td>\n",
              "      <td>0.0071</td>\n",
              "      <td>1300.0</td>\n",
              "      <td>141.78</td>\n",
              "      <td>1.175</td>\n",
              "      <td>51.606</td>\n",
              "      <td>1691705.0</td>\n",
              "      <td>1.57</td>\n",
              "      <td>6.857524e+07</td>\n",
              "      <td>1.141075e+10</td>\n",
              "      <td>137.50</td>\n",
              "      <td>0.25</td>\n",
              "    </tr>\n",
              "    <tr>\n",
              "      <th>3</th>\n",
              "      <td>AAPL</td>\n",
              "      <td>Apple Inc. - Common Stock</td>\n",
              "      <td>Q</td>\n",
              "      <td>95014</td>\n",
              "      <td>Technology</td>\n",
              "      <td>137000.0</td>\n",
              "      <td>Cupertino</td>\n",
              "      <td>CA</td>\n",
              "      <td>United States</td>\n",
              "      <td>Consumer Electronics</td>\n",
              "      <td>0.009724</td>\n",
              "      <td>27552328</td>\n",
              "      <td>316.14</td>\n",
              "      <td>3.28</td>\n",
              "      <td>26969168</td>\n",
              "      <td>1.378794e+12</td>\n",
              "      <td>50365603</td>\n",
              "      <td>313.09</td>\n",
              "      <td>316.98</td>\n",
              "      <td>327.85</td>\n",
              "      <td>1.59</td>\n",
              "      <td>0.0103</td>\n",
              "      <td>800.0</td>\n",
              "      <td>318.71</td>\n",
              "      <td>5.108</td>\n",
              "      <td>18.137</td>\n",
              "      <td>33592445.0</td>\n",
              "      <td>0.89</td>\n",
              "      <td>4.329827e+09</td>\n",
              "      <td>1.368917e+12</td>\n",
              "      <td>316.14</td>\n",
              "      <td>0.82</td>\n",
              "    </tr>\n",
              "    <tr>\n",
              "      <th>4</th>\n",
              "      <td>AAT</td>\n",
              "      <td>American Assets Trust, Inc. Common Stock</td>\n",
              "      <td>N</td>\n",
              "      <td>92130</td>\n",
              "      <td>Real Estate</td>\n",
              "      <td>205.0</td>\n",
              "      <td>San Diego</td>\n",
              "      <td>CA</td>\n",
              "      <td>United States</td>\n",
              "      <td>REIT—Diversified</td>\n",
              "      <td>0.042963</td>\n",
              "      <td>349871</td>\n",
              "      <td>28.01</td>\n",
              "      <td>0.80</td>\n",
              "      <td>330037</td>\n",
              "      <td>1.687307e+09</td>\n",
              "      <td>454533</td>\n",
              "      <td>27.21</td>\n",
              "      <td>31.42</td>\n",
              "      <td>49.26</td>\n",
              "      <td>2.59</td>\n",
              "      <td>0.0296</td>\n",
              "      <td>800.0</td>\n",
              "      <td>28.52</td>\n",
              "      <td>7.849</td>\n",
              "      <td>21.713</td>\n",
              "      <td>706006.0</td>\n",
              "      <td>1.70</td>\n",
              "      <td>5.308802e+07</td>\n",
              "      <td>2.936203e+09</td>\n",
              "      <td>28.01</td>\n",
              "      <td>0.30</td>\n",
              "    </tr>\n",
              "  </tbody>\n",
              "</table>\n",
              "</div>"
            ],
            "text/plain": [
              "  symbol       ...       latest_dividend\n",
              "0      A       ...                  0.18\n",
              "1    AAL       ...                  0.10\n",
              "2    AAP       ...                  0.25\n",
              "3   AAPL       ...                  0.82\n",
              "4    AAT       ...                  0.30\n",
              "\n",
              "[5 rows x 32 columns]"
            ]
          },
          "metadata": {
            "tags": []
          },
          "execution_count": 12
        }
      ]
    },
    {
      "cell_type": "code",
      "metadata": {
        "id": "ThsvffwR8094",
        "colab_type": "code",
        "colab": {}
      },
      "source": [
        "clean_df.to_csv('/content/drive/My Drive/optimized_dividend_stocks.csv', index=False)"
      ],
      "execution_count": null,
      "outputs": []
    },
    {
      "cell_type": "markdown",
      "metadata": {
        "id": "rl7gGkQs6fON",
        "colab_type": "text"
      },
      "source": [
        "# Next Steps\n",
        "\n",
        "## Further optimization of dataset\n",
        "\n",
        "---\n",
        "\n",
        "The dataset can be optimized with additional methods offered from FeatureSelector and we could also use the featuretools library to automatically generate more features.\n",
        "\n",
        "In addition, we could get data from other sources such as Bloomberg or Robinhood via robin-stocks.\n",
        "\n",
        "## Exploratory Data Analysis\n",
        "\n",
        "---\n",
        "\n",
        "Stock data can be examined through simple techniques to wrangle data or create comprehensive visualizations. \n",
        "\n",
        "Through this we can answer questions like 'which sector pays the best dividends?', 'are there any features that could predict business performance for a company?', 'where do different sectors concentrate their business in?', or any other you can think of."
      ]
    },
    {
      "cell_type": "code",
      "metadata": {
        "id": "TaClBYUO7xwb",
        "colab_type": "code",
        "colab": {}
      },
      "source": [
        "# Thank you for reading\n",
        "\n",
        "# Please feel free to star the repository and/or provide me with any feedback you have :)"
      ],
      "execution_count": null,
      "outputs": []
    }
  ]
}